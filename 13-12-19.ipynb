{
 "cells": [
  {
   "cell_type": "markdown",
   "metadata": {},
   "source": [
    "# Markdowns\n",
    "## Markdowns\n",
    "### Markdowns\n",
    "#### markdown"
   ]
  },
  {
   "cell_type": "markdown",
   "metadata": {},
   "source": [
    "# insert site address\n",
    "[site](http://ct3.gitam.edu/attendance/student/)"
   ]
  },
  {
   "cell_type": "markdown",
   "metadata": {},
   "source": [
    "# insert image\n",
    "![text](https://images.pexels.com/photos/459225/pexels-photo-459225.jpeg?auto=compress&cs=tinysrgb&dpr=1&w=500)"
   ]
  },
  {
   "cell_type": "markdown",
   "metadata": {},
   "source": [
    "# Python Basics:"
   ]
  },
  {
   "cell_type": "markdown",
   "metadata": {},
   "source": [
    "python is a begginers language"
   ]
  },
  {
   "cell_type": "markdown",
   "metadata": {},
   "source": [
    "python is easy to learn."
   ]
  },
  {
   "cell_type": "markdown",
   "metadata": {},
   "source": [
    "# Creating Ordered List"
   ]
  },
  {
   "cell_type": "markdown",
   "metadata": {},
   "source": [
    "1. abs\n",
    "2. hsdf\n",
    "     1. a\n",
    "     2. b"
   ]
  },
  {
   "cell_type": "markdown",
   "metadata": {},
   "source": [
    "# Unordered list\n",
    "- abd\n",
    "- jhj\n",
    "     - jh\n",
    "     - jh"
   ]
  },
  {
   "cell_type": "markdown",
   "metadata": {},
   "source": [
    "#  Bold and Italics"
   ]
  },
  {
   "cell_type": "markdown",
   "metadata": {},
   "source": [
    "**gitam**\n",
    "\n",
    "*gitam*"
   ]
  },
  {
   "cell_type": "code",
   "execution_count": 1,
   "metadata": {},
   "outputs": [
    {
     "name": "stdout",
     "output_type": "stream",
     "text": [
      "Hello world!\n"
     ]
    }
   ],
   "source": [
    "print(\"Hello world!\")"
   ]
  },
  {
   "cell_type": "markdown",
   "metadata": {},
   "source": [
    "# variable "
   ]
  },
  {
   "cell_type": "code",
   "execution_count": 2,
   "metadata": {},
   "outputs": [
    {
     "data": {
      "text/plain": [
       "30"
      ]
     },
     "execution_count": 2,
     "metadata": {},
     "output_type": "execute_result"
    }
   ],
   "source": [
    "x=10\n",
    "y=20\n",
    "x+y"
   ]
  },
  {
   "cell_type": "markdown",
   "metadata": {},
   "source": [
    "# Rules For Variable\n",
    "- name should begin with a character\n",
    "- no special character allowed except underscore(_)\n",
    "\n"
   ]
  },
  {
   "cell_type": "code",
   "execution_count": 3,
   "metadata": {},
   "outputs": [
    {
     "name": "stdout",
     "output_type": "stream",
     "text": [
      "My name is: Rishitha age is: 19\n"
     ]
    }
   ],
   "source": [
    "name=\"Rishitha\"\n",
    "age=\"19\"\n",
    "print(\"My name is:\",name,\"age is:\",age)"
   ]
  },
  {
   "cell_type": "code",
   "execution_count": 4,
   "metadata": {},
   "outputs": [
    {
     "name": "stdout",
     "output_type": "stream",
     "text": [
      "enter nameRishitha\n",
      "enter age19\n",
      "My name is: Rishitha age is: 19\n"
     ]
    }
   ],
   "source": [
    "name=input(\"enter name\")\n",
    "age=int(input(\"enter age\"))\n",
    "print(\"My name is:\",name,\"age is:\",age)"
   ]
  },
  {
   "cell_type": "code",
   "execution_count": 5,
   "metadata": {},
   "outputs": [
    {
     "name": "stdout",
     "output_type": "stream",
     "text": [
      "enter x5\n",
      "enter y5\n",
      "x+y: 10\n",
      "x-y: 0\n",
      "x*y: 25\n",
      "x%y: 0\n",
      "x/y: 1.0\n"
     ]
    }
   ],
   "source": [
    "x=int(input(\"enter x\"))\n",
    "y=int(input(\"enter y\"))\n",
    "print(\"x+y:\",x+y)\n",
    "print(\"x-y:\",x-y)\n",
    "print(\"x*y:\",x*y)\n",
    "print(\"x%y:\",x%y)\n",
    "print(\"x/y:\",x/y)"
   ]
  },
  {
   "cell_type": "markdown",
   "metadata": {},
   "source": [
    "# Fundamental Datatypes"
   ]
  },
  {
   "cell_type": "markdown",
   "metadata": {},
   "source": [
    "- int\n",
    "- float\n",
    "- complex\n",
    "- boolean\n",
    "- string"
   ]
  },
  {
   "cell_type": "code",
   "execution_count": 6,
   "metadata": {},
   "outputs": [
    {
     "name": "stdout",
     "output_type": "stream",
     "text": [
      "<class 'int'>\n",
      "<class 'float'>\n",
      "<class 'complex'>\n"
     ]
    }
   ],
   "source": [
    "x=10\n",
    "y=1.23\n",
    "z=5+6j\n",
    "print(type(x))\n",
    "print(type(y))\n",
    "print(type(z))"
   ]
  },
  {
   "cell_type": "code",
   "execution_count": 7,
   "metadata": {},
   "outputs": [
    {
     "name": "stdout",
     "output_type": "stream",
     "text": [
      "(2+5j)\n"
     ]
    }
   ],
   "source": [
    "c=complex(2,5)\n",
    "print(c)"
   ]
  },
  {
   "cell_type": "code",
   "execution_count": 8,
   "metadata": {},
   "outputs": [
    {
     "name": "stdout",
     "output_type": "stream",
     "text": [
      "(5+8j)\n",
      "(-1-2j)\n",
      "(-9+19j)\n"
     ]
    }
   ],
   "source": [
    "c1=2+3j\n",
    "c2=3+5j\n",
    "print(c1+c2)\n",
    "print(c1-c2)\n",
    "print(c1*c2)\n"
   ]
  },
  {
   "cell_type": "code",
   "execution_count": 10,
   "metadata": {},
   "outputs": [
    {
     "data": {
      "text/plain": [
       "False"
      ]
     },
     "execution_count": 10,
     "metadata": {},
     "output_type": "execute_result"
    }
   ],
   "source": [
    "a=10\n",
    "b=5\n",
    "a<b"
   ]
  },
  {
   "cell_type": "markdown",
   "metadata": {},
   "source": [
    "# String"
   ]
  },
  {
   "cell_type": "code",
   "execution_count": 11,
   "metadata": {},
   "outputs": [
    {
     "name": "stdout",
     "output_type": "stream",
     "text": [
      "<class 'str'> <class 'str'>\n"
     ]
    }
   ],
   "source": [
    "s1=\"abc\"\n",
    "s2=\"efg\"\n",
    "print(type(s1),type(s2))"
   ]
  },
  {
   "cell_type": "code",
   "execution_count": 12,
   "metadata": {},
   "outputs": [
    {
     "name": "stdout",
     "output_type": "stream",
     "text": [
      "<class 'int'>\n",
      "<class 'str'>\n",
      "<class 'float'>\n"
     ]
    }
   ],
   "source": [
    "i=100\n",
    "print(type(i))\n",
    "s=str(i)\n",
    "print(type(s))\n",
    "f=float(i)\n",
    "print(type(f))"
   ]
  },
  {
   "cell_type": "markdown",
   "metadata": {},
   "source": [
    "# Length of String"
   ]
  },
  {
   "cell_type": "code",
   "execution_count": 13,
   "metadata": {},
   "outputs": [
    {
     "name": "stdout",
     "output_type": "stream",
     "text": [
      "4\n"
     ]
    }
   ],
   "source": [
    "a=1234\n",
    "print(len(str(a)))"
   ]
  },
  {
   "cell_type": "code",
   "execution_count": 14,
   "metadata": {},
   "outputs": [
    {
     "name": "stdout",
     "output_type": "stream",
     "text": [
      "100\n",
      "10 10 10\n",
      "1 2 3\n"
     ]
    }
   ],
   "source": [
    "n1=100\n",
    "a = b = c =10\n",
    "a1,b1,c1=1,2,3\n",
    "print(n1)\n",
    "print(a,b,c)\n",
    "print(a1,b1,c1)"
   ]
  },
  {
   "cell_type": "markdown",
   "metadata": {},
   "source": [
    "# Precedence Of Arth Operators"
   ]
  },
  {
   "cell_type": "markdown",
   "metadata": {},
   "source": [
    "- paranthesis\n",
    "- power\n",
    "- multiplication\n",
    "- addition"
   ]
  },
  {
   "cell_type": "code",
   "execution_count": 15,
   "metadata": {},
   "outputs": [
    {
     "name": "stdout",
     "output_type": "stream",
     "text": [
      "8.0\n"
     ]
    }
   ],
   "source": [
    "x=1+2**3/4+5\n",
    "print(x)"
   ]
  },
  {
   "cell_type": "code",
   "execution_count": 16,
   "metadata": {},
   "outputs": [
    {
     "name": "stdout",
     "output_type": "stream",
     "text": [
      "11.0\n"
     ]
    }
   ],
   "source": [
    "x=1+2**3/4*5\n",
    "print(x)"
   ]
  },
  {
   "cell_type": "markdown",
   "metadata": {},
   "source": [
    "# Operators"
   ]
  },
  {
   "cell_type": "markdown",
   "metadata": {},
   "source": [
    "## Arithmetic Operators:\n",
    "- +\n",
    "- -\n",
    "- *\n",
    "- /\n",
    "- %\n",
    "- **\n",
    "- //"
   ]
  },
  {
   "cell_type": "code",
   "execution_count": 17,
   "metadata": {},
   "outputs": [
    {
     "name": "stdout",
     "output_type": "stream",
     "text": [
      "15\n",
      "-5\n",
      "50\n",
      "0.5\n",
      "5\n",
      "9765625\n",
      "0\n"
     ]
    }
   ],
   "source": [
    "x=5\n",
    "y=10\n",
    "print(x+y)\n",
    "print(x-y)\n",
    "print(x*y)\n",
    "print(x/y)\n",
    "print(x%y)\n",
    "print(x**y)\n",
    "print(x//y)"
   ]
  },
  {
   "cell_type": "markdown",
   "metadata": {},
   "source": [
    "# Relational Operators\n",
    "- ==\n",
    "- !=\n",
    "- <\n",
    "- '>'\n",
    "- <=\n",
    "- '>'="
   ]
  },
  {
   "cell_type": "code",
   "execution_count": 18,
   "metadata": {},
   "outputs": [
    {
     "name": "stdout",
     "output_type": "stream",
     "text": [
      "False\n"
     ]
    }
   ],
   "source": [
    "x=5\n",
    "a=x>10\n",
    "print(a)"
   ]
  },
  {
   "cell_type": "markdown",
   "metadata": {},
   "source": [
    "# Logical Operators\n",
    "- and\n",
    "- or\n",
    "- not"
   ]
  },
  {
   "cell_type": "code",
   "execution_count": 20,
   "metadata": {},
   "outputs": [
    {
     "name": "stdout",
     "output_type": "stream",
     "text": [
      "True\n",
      "False\n",
      "False\n"
     ]
    }
   ],
   "source": [
    "i=100\n",
    "a1=(i>15)and(i>70)\n",
    "a2=(i>102)or(i>120)\n",
    "print(a1)\n",
    "print(a2)\n",
    "print(not i)"
   ]
  },
  {
   "cell_type": "markdown",
   "metadata": {},
   "source": [
    "# Membership Operator\n",
    "- in\n",
    "- not in"
   ]
  },
  {
   "cell_type": "code",
   "execution_count": 21,
   "metadata": {},
   "outputs": [
    {
     "name": "stdout",
     "output_type": "stream",
     "text": [
      "True\n",
      "False\n"
     ]
    }
   ],
   "source": [
    "str1=\"abc\"\n",
    "print('a' in str1)\n",
    "print('a' not in str1)"
   ]
  },
  {
   "cell_type": "markdown",
   "metadata": {},
   "source": [
    "# Control flow Statements\n",
    "- conditional statements\n",
    "- looping statements\n",
    "## if-else statement\n",
    "- syntax\n",
    "### if condition:\n",
    "> statements<br>\n",
    "### else:\n",
    "> statements\n"
   ]
  },
  {
   "cell_type": "code",
   "execution_count": 25,
   "metadata": {},
   "outputs": [
    {
     "name": "stdout",
     "output_type": "stream",
     "text": [
      "enter a number6\n",
      "Even\n"
     ]
    }
   ],
   "source": [
    "# check given number is even or odd\n",
    "n=int(input(\"enter a number\"))\n",
    "if n%2==0:\n",
    "    print(\"Even\")\n",
    "else:\n",
    "    print(\"Odd\")"
   ]
  },
  {
   "cell_type": "code",
   "execution_count": 28,
   "metadata": {},
   "outputs": [
    {
     "name": "stdout",
     "output_type": "stream",
     "text": [
      "enter a number15\n",
      "it is a multiple of 3 and 5\n"
     ]
    }
   ],
   "source": [
    "n=int(input(\"enter a number\"))\n",
    "if n%3==0 and n%5==0:\n",
    "     print(\"it is a multiple of 3 and 5\")\n",
    "else:\n",
    "            print(\"its not\")"
   ]
  },
  {
   "cell_type": "code",
   "execution_count": 30,
   "metadata": {},
   "outputs": [
    {
     "name": "stdout",
     "output_type": "stream",
     "text": [
      "enter a number-8\n",
      "it is negative\n"
     ]
    }
   ],
   "source": [
    "#check given number is positive,negative or zero\n",
    "n=int(input(\"enter a number\"))\n",
    "if n>0:\n",
    "    print(\" it is positive\")\n",
    "elif n<0:\n",
    "    print(\"it is negative\")\n",
    "else:\n",
    "    print(\"zero\")"
   ]
  },
  {
   "cell_type": "code",
   "execution_count": null,
   "metadata": {},
   "outputs": [],
   "source": []
  }
 ],
 "metadata": {
  "kernelspec": {
   "display_name": "Python 3",
   "language": "python",
   "name": "python3"
  },
  "language_info": {
   "codemirror_mode": {
    "name": "ipython",
    "version": 3
   },
   "file_extension": ".py",
   "mimetype": "text/x-python",
   "name": "python",
   "nbconvert_exporter": "python",
   "pygments_lexer": "ipython3",
   "version": "3.7.3"
  }
 },
 "nbformat": 4,
 "nbformat_minor": 2
}
