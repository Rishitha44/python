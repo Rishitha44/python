{
 "cells": [
  {
   "cell_type": "markdown",
   "metadata": {},
   "source": [
    "# Program to print min int value\n",
    "#include <stdio.h>\n",
    "#include<limits.h>\n",
    "void main()\n",
    "{\n",
    "    int a;\n",
    "    a=INT_MIN;\n",
    "    printf(\"%d\",a);\n",
    "}\n",
    "\n",
    "    \n"
   ]
  },
  {
   "cell_type": "markdown",
   "metadata": {},
   "source": [
    "# Program to print max int value\n",
    "#include <stdio.h>\n",
    "#include<limits.h>\n",
    "void main()\n",
    "{\n",
    "    int a;\n",
    "    a=INT_MAX;\n",
    "    printf(\"%d\",a);\n",
    "}\n"
   ]
  },
  {
   "cell_type": "markdown",
   "metadata": {},
   "source": [
    "# Program to print ASCII values\n",
    "#include <stdio.h>\n",
    "void main()\n",
    "{\n",
    "    int i;\n",
    "    for(i=0;i<=200;i++)\n",
    "    printf(\"%c=%d\",i,i);\n",
    "}"
   ]
  },
  {
   "cell_type": "markdown",
   "metadata": {},
   "source": [
    "# Specifiers:\n",
    "## %o\n",
    "#include <stdio.h>\n",
    "void main()\n",
    "{\n",
    "    int i=29;\n",
    "    printf(\"%o\",i);\n",
    "}\n"
   ]
  },
  {
   "cell_type": "markdown",
   "metadata": {},
   "source": [
    "## %x\n",
    "#include <stdio.h>\n",
    "void main()\n",
    "{\n",
    "    int i=29;\n",
    "    printf(\"%x\",i);\n",
    "}\n"
   ]
  },
  {
   "cell_type": "markdown",
   "metadata": {},
   "source": [
    "## %d\n",
    "#include <stdio.h>\n",
    "void main()\n",
    "{\n",
    "    int i=0x35;\n",
    "    printf(\"%d\",i);\n",
    "}\n",
    "Output:53"
   ]
  },
  {
   "cell_type": "markdown",
   "metadata": {},
   "source": [
    "## Arithmetic Operators\n",
    "#include <stdio.h>\n",
    "void main()\n",
    "{\n",
    "    printf(\"%d\",'b'+'a');\n",
    "}\n",
    "Output:193"
   ]
  },
  {
   "cell_type": "markdown",
   "metadata": {},
   "source": [
    "#include <stdio.h>\n",
    "void main()\n",
    "{\n",
    "    float a;\n",
    "    a=fmod(20.5,3.2);\n",
    "    printf(\"%f\",a);\n",
    "}"
   ]
  },
  {
   "cell_type": "markdown",
   "metadata": {},
   "source": [
    "include <stdio.h>\n",
    "void main()\n",
    "{\n",
    "    int b,a=5;\n",
    "    b=++a;\n",
    "    printf(\"%d %d\",a,b);\n",
    "}\n",
    "Output:6 6\n"
   ]
  },
  {
   "cell_type": "markdown",
   "metadata": {},
   "source": [
    "#include <stdio.h>\n",
    "void main()\n",
    "{\n",
    "    int b,a=5;\n",
    "    printf(\"%d\\n\",a++);\n",
    "    printf(\"%d\",a);\n",
    "}\n",
    "Output:5 6"
   ]
  },
  {
   "cell_type": "markdown",
   "metadata": {},
   "source": [
    "#include <stdio.h>\n",
    "void main()\n",
    "{\n",
    "    int c;\n",
    "   c= printf(\"hello\\n\");\n",
    "    printf(\"\\n%d\",c);\n",
    "}\n",
    "Output:hello\n",
    "        6"
   ]
  },
  {
   "cell_type": "markdown",
   "metadata": {},
   "source": [
    "#include <stdio.h>\n",
    "void main()\n",
    "{\n",
    "    int a,b,c;\n",
    "   c=scanf(\"%d%d\",&a,&b);\n",
    "    printf(\"\\n%d\",c);\n",
    "}\n",
    "Output:\n",
    "10\n",
    "12\n",
    "\n",
    "2"
   ]
  },
  {
   "cell_type": "markdown",
   "metadata": {},
   "source": [
    "# Logical Operators:\n",
    "## AND:\n",
    "#include <stdio.h>\n",
    "void main()\n",
    "{\n",
    "    int a=5,b=0,c;\n",
    "   c=b&&a++;\n",
    "    printf(\"%d\",a);\n",
    "}\n",
    "Output:5\n",
    "#include <stdio.h>\n",
    "************************************************\n",
    "void main()\n",
    "{\n",
    "    int a=5,b=8,c;\n",
    "   c=b&&a++;\n",
    "    printf(\"%d\",a);\n",
    "}\n",
    "Output:6"
   ]
  },
  {
   "cell_type": "markdown",
   "metadata": {},
   "source": [
    "## OR:\n",
    "#include <stdio.h>\n",
    "void main()\n",
    "{\n",
    "    int a=5,b=0,c;\n",
    "   c=b||a++;\n",
    "    printf(\"%d\",a);\n",
    "}\n",
    "Output:6\n",
    "### Precedence of && and ||:\n",
    "#include <stdio.h>\n",
    "void main()\n",
    "{\n",
    "    int a=5,b=6,c,d=0;\n",
    "   c=b||a&&d;\n",
    "    printf(\"%d\",c);\n",
    "}\n",
    "Output:1"
   ]
  },
  {
   "cell_type": "markdown",
   "metadata": {},
   "source": [
    "# Bitwise Operators:\n",
    "#include <stdio.h>\n",
    "void main()\n",
    "{\n",
    "    int a=5,b=6,c;\n",
    "   c=a^b;\n",
    "    printf(\"%d\",c);\n",
    "}\n",
    "Output:3\n",
    "*****************************************\n",
    "#include <stdio.h>\n",
    "void main()\n",
    "{\n",
    "    int a=5,b=6,c;\n",
    "   c=a>>1;\n",
    "    printf(\"%d\",c);\n",
    "}\n",
    "Output:2\n",
    "*******************************************\n",
    "#include <stdio.h>\n",
    "void main()\n",
    "{\n",
    "    int a=5,b=6,c;\n",
    "   c=a<<1;\n",
    "    printf(\"%d\",c);\n",
    "}\n",
    "Output:10\n",
    "*********************************************\n",
    "#include <stdio.h>\n",
    "void main()\n",
    "{\n",
    "    int a=5;\n",
    "   a=~5;\n",
    "    printf(\"%d\",a);\n",
    "}\n",
    "Output:-6"
   ]
  },
  {
   "cell_type": "markdown",
   "metadata": {},
   "source": [
    "# Relational Operators\n",
    "#include <stdio.h>\n",
    "void main()\n",
    "{\n",
    "    int a=5,b=6;\n",
    "    if(a==b)\n",
    "    printf(\"yes\");\n",
    "    else\n",
    "    printf(\"no\");\n",
    "    printf(\"%d\",a);\n",
    "}\n",
    "Output:\n",
    "      no\n",
    "      5\n",
    "********************************************      \n",
    "      \n",
    "#include <stdio.h>\n",
    "void main()\n",
    "{\n",
    "    int a=5,b=8;\n",
    "    if(a!=b)\n",
    "    printf(\"yes\");\n",
    "    else\n",
    "    printf(\"no\");\n",
    "    printf(\"%d\",a);\n",
    "}\n",
    "Output:Yes\n",
    "        5\n",
    "********************************************\n",
    "#include <stdio.h>\n",
    "void main()\n",
    "{\n",
    "    int a=5,b=8;\n",
    "    if(0)\n",
    "    printf(\"yes\");\n",
    "    else\n",
    "    printf(\"no\");\n",
    "    printf(\"%d\",a);\n",
    "}\n",
    "Ouput:no\n",
    "      5\n",
    "\n",
    "  "
   ]
  },
  {
   "cell_type": "markdown",
   "metadata": {},
   "source": [
    "# Assignment operator:\n",
    "#include <stdio.h>\n",
    "void main()\n",
    "{\n",
    "    int a=5;\n",
    "    a*=6;\n",
    "    printf(\"%d\",a);\n",
    "}\n",
    "Output:30\n"
   ]
  },
  {
   "cell_type": "markdown",
   "metadata": {},
   "source": [
    "# Size of( ):\n",
    "#include <stdio.h>\n",
    "void main()\n",
    "{\n",
    "    int  a;\n",
    "    printf(\"%d\",sizeof(a));\n",
    "}\n",
    "Output:4\n",
    "*******************************************\n",
    "#include <stdio.h>\n",
    "void main()\n",
    "{\n",
    "    long double  a;\n",
    "    printf(\"%d\",sizeof(a));\n",
    "}\n",
    "Output:16\n",
    "*******************************************\n",
    "#include <stdio.h>\n",
    "void main()\n",
    "{\n",
    "    long a;\n",
    "    printf(\"%d\",sizeof(a));\n",
    "}\n",
    "Output:8"
   ]
  },
  {
   "cell_type": "markdown",
   "metadata": {},
   "source": [
    "#include <stdio.h>\n",
    "void main()\n",
    "{\n",
    "    int  a=5,b;\n",
    "    b=sizeof(++a);\n",
    "    printf(\"%d %d\",a,b);\n",
    "}\n",
    "Output:5 4"
   ]
  },
  {
   "cell_type": "markdown",
   "metadata": {},
   "source": [
    "#ternary operator\n",
    "#include <stdio.h>\n",
    "void main()\n",
    "{\n",
    "    int  a=5,b=6,c;\n",
    "    c=a<b?a:b;\n",
    "    printf(\"%d\",c);\n",
    "}\n",
    "Output:5\n",
    "*******************************************\n",
    "#include <stdio.h>\n",
    "void main()\n",
    "{\n",
    "    int  a=6,b=5,c;\n",
    "    c=a?0:1;\n",
    "    printf(\"%d\",c);\n",
    "}\n",
    "Output:0"
   ]
  }
 ],
 "metadata": {
  "kernelspec": {
   "display_name": "Python 3",
   "language": "python",
   "name": "python3"
  },
  "language_info": {
   "codemirror_mode": {
    "name": "ipython",
    "version": 3
   },
   "file_extension": ".py",
   "mimetype": "text/x-python",
   "name": "python",
   "nbconvert_exporter": "python",
   "pygments_lexer": "ipython3",
   "version": "3.7.3"
  }
 },
 "nbformat": 4,
 "nbformat_minor": 2
}
